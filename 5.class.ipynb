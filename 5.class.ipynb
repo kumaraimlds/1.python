{
 "cells": [
  {
   "cell_type": "code",
   "execution_count": 1,
   "metadata": {},
   "outputs": [],
   "source": [
    "class MultiFunction():\n",
    "     def oddEven():\n",
    "        num=int(input(\"Enter the number:\"))\n",
    "        if((num%2)==0):\n",
    "            print(\"even number\")\n",
    "            message=\"even number\"\n",
    "        else:\n",
    "            print(\"odd number\")\n",
    "            message=\"odd number\"\n",
    "        return message\n",
    "     def BMI():\n",
    "        index=int(input(\"Enter the BMI index:\"))\n",
    "        if(index<18):\n",
    "            print(\"underweight\")\n",
    "            message1=\"underweight\"\n",
    "        elif(index>18 and index<25):\n",
    "            print(\"normai\")\n",
    "            message1=\"normai\"\n",
    "        elif(index>25 and index<30):\n",
    "            print(\"overweight\")\n",
    "            message1=\"overweight\"\n",
    "        else:\n",
    "            print(\"very overweight\")\n",
    "            message1=\"very overweight\"\n",
    "        return message1\n",
    "     def AgeCategory():\n",
    "        age=int(input(\"Enter the age:\"))\n",
    "        if(age<18):\n",
    "            print(\"children\")\n",
    "            cate=\"children\"\n",
    "        elif(age<35):\n",
    "            print(\"adult\")\n",
    "            cate=\"adult\"   \n",
    "        elif(age<59):\n",
    "            print(\"citizen\")\n",
    "            cate=\"citizen\"   \n",
    "        else:\n",
    "            print(\"senior citizen\")\n",
    "            cate=\"senior citizen\"\n",
    "        return cate "
   ]
  },
  {
   "cell_type": "code",
   "execution_count": 2,
   "metadata": {},
   "outputs": [
    {
     "name": "stdout",
     "output_type": "stream",
     "text": [
      "Enter the number:15\n",
      "odd number\n"
     ]
    },
    {
     "data": {
      "text/plain": [
       "'odd number'"
      ]
     },
     "execution_count": 2,
     "metadata": {},
     "output_type": "execute_result"
    }
   ],
   "source": [
    "MultiFunction.oddEven()"
   ]
  },
  {
   "cell_type": "code",
   "execution_count": 3,
   "metadata": {},
   "outputs": [
    {
     "name": "stdout",
     "output_type": "stream",
     "text": [
      "Enter the BMI index:25\n",
      "very overweight\n"
     ]
    },
    {
     "data": {
      "text/plain": [
       "'very overweight'"
      ]
     },
     "execution_count": 3,
     "metadata": {},
     "output_type": "execute_result"
    }
   ],
   "source": [
    "MultiFunction.BMI()"
   ]
  },
  {
   "cell_type": "code",
   "execution_count": 4,
   "metadata": {},
   "outputs": [
    {
     "name": "stdout",
     "output_type": "stream",
     "text": [
      "Enter the age:25\n",
      "adult\n"
     ]
    },
    {
     "data": {
      "text/plain": [
       "'adult'"
      ]
     },
     "execution_count": 4,
     "metadata": {},
     "output_type": "execute_result"
    }
   ],
   "source": [
    "MultiFunction.AgeCategory()"
   ]
  },
  {
   "cell_type": "code",
   "execution_count": null,
   "metadata": {},
   "outputs": [],
   "source": []
  }
 ],
 "metadata": {
  "kernelspec": {
   "display_name": "Python 3",
   "language": "python",
   "name": "python3"
  },
  "language_info": {
   "codemirror_mode": {
    "name": "ipython",
    "version": 3
   },
   "file_extension": ".py",
   "mimetype": "text/x-python",
   "name": "python",
   "nbconvert_exporter": "python",
   "pygments_lexer": "ipython3",
   "version": "3.7.4"
  }
 },
 "nbformat": 4,
 "nbformat_minor": 2
}
