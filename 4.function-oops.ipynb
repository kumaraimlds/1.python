{
 "cells": [
  {
   "cell_type": "code",
   "execution_count": 1,
   "metadata": {},
   "outputs": [],
   "source": [
    "lists=[23,45,67,34,89]"
   ]
  },
  {
   "cell_type": "code",
   "execution_count": null,
   "metadata": {},
   "outputs": [],
   "source": []
  },
  {
   "cell_type": "code",
   "execution_count": 2,
   "metadata": {},
   "outputs": [],
   "source": [
    "def AgeCategory():   \n",
    "    for age in lists:\n",
    "        if(age<18):\n",
    "            print(\"children\")\n",
    "        elif(age<35):\n",
    "            print(\"adult\")\n",
    "        elif(age<59):\n",
    "            print(\"citizen\")\n",
    "        else:\n",
    "            print(\"senior citizen\") "
   ]
  },
  {
   "cell_type": "code",
   "execution_count": 3,
   "metadata": {},
   "outputs": [
    {
     "name": "stdout",
     "output_type": "stream",
     "text": [
      "adult\n",
      "citizen\n",
      "senior citizen\n",
      "adult\n",
      "senior citizen\n"
     ]
    }
   ],
   "source": [
    "AgeCategory()"
   ]
  },
  {
   "cell_type": "code",
   "execution_count": 4,
   "metadata": {},
   "outputs": [
    {
     "name": "stdout",
     "output_type": "stream",
     "text": [
      "The enter age:54\n"
     ]
    }
   ],
   "source": [
    "age=int(input(\"The enter age:\"))"
   ]
  },
  {
   "cell_type": "code",
   "execution_count": 5,
   "metadata": {},
   "outputs": [],
   "source": [
    "def AgeCategory1():\n",
    "    if(age<18):\n",
    "        print(\"children\")\n",
    "    elif(age<35):\n",
    "         print(\"adult\")\n",
    "    elif(age<59):\n",
    "         print(\"citizen\")\n",
    "    else:\n",
    "        print(\"senior citizen\") \n",
    "        "
   ]
  },
  {
   "cell_type": "code",
   "execution_count": 6,
   "metadata": {},
   "outputs": [
    {
     "name": "stdout",
     "output_type": "stream",
     "text": [
      "citizen\n"
     ]
    }
   ],
   "source": [
    "AgeCategory1()"
   ]
  },
  {
   "cell_type": "code",
   "execution_count": 7,
   "metadata": {},
   "outputs": [
    {
     "name": "stdout",
     "output_type": "stream",
     "text": [
      "The enter age:60\n"
     ]
    }
   ],
   "source": [
    "age=int(input(\"The enter age:\"))"
   ]
  },
  {
   "cell_type": "code",
   "execution_count": 8,
   "metadata": {},
   "outputs": [],
   "source": [
    "def AgeCategory1():\n",
    "    if(age<18):\n",
    "        print(\"children\")\n",
    "        cate=\"children\"\n",
    "    elif(age<35):\n",
    "        print(\"adult\")\n",
    "        cate=\"adult\"   \n",
    "    elif(age<59):\n",
    "        print(\"citizen\")\n",
    "        cate=\"citizen\"   \n",
    "    else:\n",
    "        print(\"senior citizen\")\n",
    "        cate=\"senior citizen\"\n",
    "    return cate"
   ]
  },
  {
   "cell_type": "code",
   "execution_count": 9,
   "metadata": {},
   "outputs": [
    {
     "name": "stdout",
     "output_type": "stream",
     "text": [
      "senior citizen\n"
     ]
    },
    {
     "data": {
      "text/plain": [
       "'senior citizen'"
      ]
     },
     "execution_count": 9,
     "metadata": {},
     "output_type": "execute_result"
    }
   ],
   "source": [
    "AgeCategory1()"
   ]
  },
  {
   "cell_type": "code",
   "execution_count": 10,
   "metadata": {},
   "outputs": [
    {
     "name": "stdout",
     "output_type": "stream",
     "text": [
      "senior citizen\n"
     ]
    }
   ],
   "source": [
    "agecate=AgeCategory1()"
   ]
  },
  {
   "cell_type": "code",
   "execution_count": 11,
   "metadata": {},
   "outputs": [
    {
     "name": "stdout",
     "output_type": "stream",
     "text": [
      "senior citizen\n"
     ]
    }
   ],
   "source": [
    "print(agecate)"
   ]
  },
  {
   "cell_type": "code",
   "execution_count": 12,
   "metadata": {},
   "outputs": [],
   "source": [
    "def AgeCategoryNor():\n",
    "    if(age<18):\n",
    "        print(\"children\")\n",
    "        cate=\"children\"\n",
    "    elif(age<35):\n",
    "        print(\"adult\")\n",
    "        cate=\"adult\"   \n",
    "    elif(age<59):\n",
    "        print(\"citizen\")\n",
    "        cate=\"citizen\"   \n",
    "    else:\n",
    "        print(\"senior citizen\")\n",
    "        cate=\"senior citizen\"\n",
    "    "
   ]
  },
  {
   "cell_type": "code",
   "execution_count": 13,
   "metadata": {},
   "outputs": [
    {
     "name": "stdout",
     "output_type": "stream",
     "text": [
      "senior citizen\n"
     ]
    }
   ],
   "source": [
    "AgeCategoryNor()"
   ]
  },
  {
   "cell_type": "code",
   "execution_count": 14,
   "metadata": {},
   "outputs": [
    {
     "name": "stdout",
     "output_type": "stream",
     "text": [
      "senior citizen\n"
     ]
    }
   ],
   "source": [
    "agecate=AgeCategoryNor()"
   ]
  },
  {
   "cell_type": "code",
   "execution_count": 15,
   "metadata": {},
   "outputs": [
    {
     "name": "stdout",
     "output_type": "stream",
     "text": [
      "None\n"
     ]
    }
   ],
   "source": [
    "print(agecate)"
   ]
  },
  {
   "cell_type": "code",
   "execution_count": 16,
   "metadata": {},
   "outputs": [],
   "source": [
    "def oddEven():\n",
    "    num=int(input(\"Enter the number:\"))\n",
    "    if((num%2)==0):\n",
    "        print(\"even number\")\n",
    "        message=\"even number\"\n",
    "    else:\n",
    "        print(\"odd number\")\n",
    "        message=\"odd number\"\n",
    "    return message"
   ]
  },
  {
   "cell_type": "code",
   "execution_count": 31,
   "metadata": {},
   "outputs": [
    {
     "name": "stdout",
     "output_type": "stream",
     "text": [
      "Enter the number:5\n",
      "odd number\n"
     ]
    }
   ],
   "source": [
    "message=oddEven()"
   ]
  },
  {
   "cell_type": "code",
   "execution_count": 32,
   "metadata": {},
   "outputs": [
    {
     "name": "stdout",
     "output_type": "stream",
     "text": [
      "the given number is Odd\n"
     ]
    }
   ],
   "source": [
    "if(message==\"even Number\"):\n",
    "    print(\"the given number is Even\")\n",
    "else:\n",
    "    print(\"the given number is Odd\")"
   ]
  },
  {
   "cell_type": "code",
   "execution_count": 44,
   "metadata": {},
   "outputs": [],
   "source": [
    "def BMI():\n",
    "    index=int(input(\"Enter the BMI index:\"))\n",
    "    if(index<18):\n",
    "        print(\"underweight\")\n",
    "        message1=\"underweight\"\n",
    "    elif(index>18 and index<25):\n",
    "        print(\"normai\")\n",
    "        message1=\"normai\"\n",
    "    elif(index>25 and index<30):\n",
    "        print(\"overweight\")\n",
    "        message1=\"overweight\"\n",
    "    else:\n",
    "        print(\"very overweight\")\n",
    "        message1=\"very overweight\"\n",
    "    return message1"
   ]
  },
  {
   "cell_type": "code",
   "execution_count": 45,
   "metadata": {},
   "outputs": [
    {
     "name": "stdout",
     "output_type": "stream",
     "text": [
      "Enter the BMI index:55\n",
      "very overweight\n"
     ]
    },
    {
     "data": {
      "text/plain": [
       "'very overweight'"
      ]
     },
     "execution_count": 45,
     "metadata": {},
     "output_type": "execute_result"
    }
   ],
   "source": [
    "BMI()"
   ]
  },
  {
   "cell_type": "code",
   "execution_count": null,
   "metadata": {},
   "outputs": [],
   "source": [
    "def addition"
   ]
  },
  {
   "cell_type": "code",
   "execution_count": null,
   "metadata": {},
   "outputs": [],
   "source": []
  }
 ],
 "metadata": {
  "kernelspec": {
   "display_name": "Python 3",
   "language": "python",
   "name": "python3"
  },
  "language_info": {
   "codemirror_mode": {
    "name": "ipython",
    "version": 3
   },
   "file_extension": ".py",
   "mimetype": "text/x-python",
   "name": "python",
   "nbconvert_exporter": "python",
   "pygments_lexer": "ipython3",
   "version": "3.7.4"
  }
 },
 "nbformat": 4,
 "nbformat_minor": 2
}
