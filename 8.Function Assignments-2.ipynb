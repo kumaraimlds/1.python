{
 "cells": [
  {
   "cell_type": "code",
   "execution_count": null,
   "metadata": {},
   "outputs": [],
   "source": [
    "def BMI():\n",
    "    index=int(input(\"Enter the BMI index:\"))\n",
    "    if(index<18):\n",
    "        print(\"underweight\")\n",
    "        message=\"underweight\"\n",
    "    elif(index<25):\n",
    "        print(\"normai\")\n",
    "        message=\"normai\"\n",
    "    elif(index<30):\n",
    "        print(\"overweight\")\n",
    "        message=\"overweight\"\n",
    "    else:\n",
    "        print(\"very overweight\")\n",
    "        message=\"very overweight\"\n",
    "    return message"
   ]
  },
  {
   "cell_type": "code",
   "execution_count": null,
   "metadata": {},
   "outputs": [],
   "source": [
    "bmi=BMI()"
   ]
  },
  {
   "cell_type": "code",
   "execution_count": 16,
   "metadata": {},
   "outputs": [
    {
     "name": "stdout",
     "output_type": "stream",
     "text": [
      "Enter the BMI index:5\n",
      "underweight\n"
     ]
    },
    {
     "ename": "SyntaxError",
     "evalue": "'return' outside function (<ipython-input-16-951250030ded>, line 14)",
     "output_type": "error",
     "traceback": [
      "\u001b[1;36m  File \u001b[1;32m\"<ipython-input-16-951250030ded>\"\u001b[1;36m, line \u001b[1;32m14\u001b[0m\n\u001b[1;33m    return message\u001b[0m\n\u001b[1;37m                      ^\u001b[0m\n\u001b[1;31mSyntaxError\u001b[0m\u001b[1;31m:\u001b[0m 'return' outside function\n"
     ]
    }
   ],
   "source": [
    "index=int(input(\"Enter the BMI index:\"))\n",
    "if(index<18):\n",
    "    print(\"underweight\")\n",
    "    message=\"underweight\"\n",
    "elif(index<25):\n",
    "    print(\"normai\")\n",
    "    message=\"normai\"\n",
    "elif(index<30):\n",
    "    print(\"overweight\")\n",
    "    message=\"overweight\"\n",
    "else:\n",
    "    print(\"very overweight\")\n",
    "    message=\"very overweight\"\n",
    "return message    "
   ]
  },
  {
   "cell_type": "code",
   "execution_count": null,
   "metadata": {},
   "outputs": [],
   "source": []
  }
 ],
 "metadata": {
  "kernelspec": {
   "display_name": "Python 3",
   "language": "python",
   "name": "python3"
  },
  "language_info": {
   "codemirror_mode": {
    "name": "ipython",
    "version": 3
   },
   "file_extension": ".py",
   "mimetype": "text/x-python",
   "name": "python",
   "nbconvert_exporter": "python",
   "pygments_lexer": "ipython3",
   "version": "3.7.4"
  }
 },
 "nbformat": 4,
 "nbformat_minor": 2
}
